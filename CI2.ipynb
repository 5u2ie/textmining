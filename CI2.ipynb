{
 "metadata": {
  "name": "",
  "signature": "sha256:38ba04aed5f6e231aec6477b73ccddd4611a31c7031c43a3fe41b9531baae885"
 },
 "nbformat": 3,
 "nbformat_minor": 0,
 "worksheets": [
  {
   "cells": [
    {
     "cell_type": "heading",
     "level": 1,
     "metadata": {},
     "source": [
      "CI 2"
     ]
    },
    {
     "cell_type": "markdown",
     "metadata": {},
     "source": [
      "In what cases\n",
      "could this be used as the similarity metric instead of Euclidean distance or\n",
      "Pearson coefficient?"
     ]
    },
    {
     "cell_type": "markdown",
     "metadata": {},
     "source": [
      "The Pearson correlation works well for the blog dataset where the values are actual word counts. However, this dataset just has 1s and 0s for presence or absence, and it would be more useful to define some measure of overlap between the people who want two items. For this, there is a measure called the Tanimoto coefficient, which is the ratio of the intersection set (only the items that are in both sets) to the union set (all the items in either set). "
     ]
    },
    {
     "cell_type": "markdown",
     "metadata": {},
     "source": [
      "Create a new similarity function using the Tanimoto score."
     ]
    },
    {
     "cell_type": "code",
     "collapsed": false,
     "input": [
      "def tanimoto(v1,v2):\n",
      "    c1,c2,shr=0,0,0\n",
      "    for i in range(len(v1)):\n",
      "        if v1[i]!=0: c1+=1 # in v1\n",
      "        if v2[i]!=0: c2+=1 # in v2\n",
      "        if v1[i]!=0 and v2[i]!=0: shr+=1 # in both\n",
      "    return 1.0-(float(shr)/(c1+c2-shr))"
     ],
     "language": "python",
     "metadata": {},
     "outputs": [],
     "prompt_number": 1
    },
    {
     "cell_type": "markdown",
     "metadata": {},
     "source": [
      "Tag similarity. Using the del.icio.us API, create a dataset of tags and items. Use this to calculate similarity between tags and see if you can find any that are almost identical. Find some items that could have been tagged \u201cprogramming\u201d but were not."
     ]
    },
    {
     "cell_type": "code",
     "collapsed": false,
     "input": [
      "import pydelicious\n",
      "pydelicious.get_popular(tag='programming')\n",
      "dataset = {}\n",
      "dataset[\"school\"] = pydelicious.get_popular(tag='school')\n",
      "dataset[\"YouTube\"] = pydelicious.get_popular(tag='YouTube')\n",
      "dataset[\"college\"] = pydelicious.get_popular(tag='college')\n",
      "list_of_items = []\n",
      "for l in dataset.values():\n",
      "    for i in l:\n",
      "        list_of_items.append(i[\"url\"])\n",
      "print list_of_items"
     ],
     "language": "python",
     "metadata": {},
     "outputs": [
      {
       "output_type": "stream",
       "stream": "stdout",
       "text": [
        "[u'http://a.bouque.eurotech.free.fr/dp3_prof/index.html', u'http://www.futura-sciences.com/magazines/matiere/infos/actu/d/physique-dossier-tout-savoir-energie-53790/', u'http://eduscol.education.fr/cid76611/se-former-au-c2i-grace-a-fun.html', u'http://www.artvideo.free.fr/accueil.html', u'http://www.digitalmcd.com/', u'http://www.stadtpanoramen.de/', u'https://www.ecollegefinder.org/most-selective-colleges-map.aspx', u'http://www.collegeaftermath.com/life-adventures-after-college/top-ten-most-common-mistakes-a-new-grad-can-make/', u'http://www.whitehouse.gov/sites/default/files/college_completion_tool_kit.pdf', u'http://www.hercampus.com/school/uc-riverside/art-hugging', u'http://vm-education.com/', u'http://kotaku.com/turning-school-into-an-rpg-where-you-level-up-by-studyi-1585846201?utm_campaign=Socialflow_Kotaku_Facebook&utm_source=Kotaku_Facebook&utm_medium=Socialflow', u'http://cwx.prenhall.com/bookbind/pubbooks/martini10/', u'http://truepredictions.com/?post_type=post&p=122267', u'http://www.pedigree-chart.com/?post_type=post&p=1908', u'http://www.doverbroecks.com/', u'http://www.headington.org/', u'http://www.mcsoxford.org/', u'http://www.newcollegeschool.org/', u'http://www.ryestantony.co.uk/', u'https://www.youtube.com/watch?v=BZgg4tocIvY&index=15&list=PL1FBCE1328D4F1D32', u'http://www.youtube.com/watch?v=d1x7phKuaUk&list=RDd1x7phKuaUk#t=232', u'http://www.youtube.com/user/globaltrancemission', u'http://www.youtube.com/watch?v=WKPRyKYdBYA', u'http://www.ad-exchange.fr/quelles-sont-les-differentes-options-de-ciblage-publicitaire-sur-les-differents-sociaux-12256/', u'http://www.mediamister.com/blog/how-to-block-the-videobanner-advertisements-in-youtube/', u'http://www.mediamister.com/blog/useful-shortcut-keys-for-youtube/', u'http://www.ytpak.com/?component=video&task=view&id=lEZpLypyC_c', u'http://www.softpedia.com/get/Internet/Download-Managers/MassTube.shtml', u'https://www.youtube.com/watch?v=4Ma3wcaYV8k']\n"
       ]
      }
     ],
     "prompt_number": 5
    },
    {
     "cell_type": "code",
     "collapsed": false,
     "input": [
      "list_school = []\n",
      "list_YouTube = []\n",
      "list_college = []\n",
      "for i in list_of_items:\n",
      "    found = False\n",
      "    for item in dataset['school']:\n",
      "        if i == item['url']:\n",
      "            found = True\n",
      "    list_school.append(1 if found else 0)\n",
      "    found = False\n",
      "    for item in dataset['YouTube']:\n",
      "        if i == item['url']:\n",
      "            found = True\n",
      "    list_YouTube.append(1 if found else 0)\n",
      "    found = False\n",
      "    for item in dataset['college']:\n",
      "        if i == item['url']:\n",
      "            found = True\n",
      "    list_college.append(1 if found else 0)\n",
      "        \n",
      "print list_school\n",
      "print list_YouTube\n",
      "print list_college"
     ],
     "language": "python",
     "metadata": {},
     "outputs": [
      {
       "output_type": "stream",
       "stream": "stdout",
       "text": [
        "[0, 0, 0, 0, 0, 0, 0, 0, 0, 0, 1, 1, 1, 1, 1, 1, 1, 1, 1, 1, 0, 0, 0, 0, 0, 0, 0, 0, 0, 0]\n",
        "[0, 0, 0, 0, 0, 0, 0, 0, 0, 0, 0, 0, 0, 0, 0, 0, 0, 0, 0, 0, 1, 1, 1, 1, 1, 1, 1, 1, 1, 1]\n",
        "[1, 1, 1, 1, 1, 1, 1, 1, 1, 1, 0, 0, 0, 0, 0, 0, 0, 0, 0, 0, 0, 0, 0, 0, 0, 0, 0, 0, 0, 0]\n"
       ]
      }
     ],
     "prompt_number": 9
    },
    {
     "cell_type": "code",
     "collapsed": false,
     "input": [
      "def calculateSimilarItems(prefs,n=10):\n",
      "    # Create a dictionary of items showing which other items they\n",
      "    # are most similar to.\n",
      "    result={}\n",
      "    # Invert the preference matrix to be item-centric\n",
      "    itemPrefs=transformPrefs(prefs)\n",
      "    c=0\n",
      "    for item in itemPrefs:\n",
      "        # Status updates for large datasets\n",
      "        c+=1\n",
      "        if c%100==0: print \"%d / %d\" % (c,len(itemPrefs))\n",
      "        # Find the most similar items to this one\n",
      "        scores=topMatches(itemPrefs,item,n=n,similarity=sim_distance)\n",
      "        result[item]=scores\n",
      "  return result"
     ],
     "language": "python",
     "metadata": {},
     "outputs": []
    },
    {
     "cell_type": "markdown",
     "metadata": {},
     "source": [
      "User-based efficiency. The user-based filtering algorithm is inefficient because it compares a user to all other users every time a recommendation is needed. Write a function to precompute user similarities, and alter the recommendation code to use only the top five other users to get recommendations."
     ]
    },
    {
     "cell_type": "code",
     "collapsed": false,
     "input": [
      "#sort the output based on similarity and \n",
      "\n",
      "recommendations.getRecommendations(prefs,'87')[0:5]"
     ],
     "language": "python",
     "metadata": {},
     "outputs": []
    },
    {
     "cell_type": "markdown",
     "metadata": {},
     "source": [
      "Item-based bookmark filtering. Download a set of data from del.icio.us and add it to the database. Create an item-item table and use this to make item-based recommendations for various users. How do these compare to the user-based recommendations?"
     ]
    },
    {
     "cell_type": "code",
     "collapsed": false,
     "input": [],
     "language": "python",
     "metadata": {},
     "outputs": []
    },
    {
     "cell_type": "markdown",
     "metadata": {},
     "source": [
      "Audioscrobbler. Take a look at http://www.audioscrobbler.net, a dataset contain- ing music preferences for a large set of users. Use their web services API to get a set of data for making and building a music recommendation system."
     ]
    }
   ],
   "metadata": {}
  }
 ]
}