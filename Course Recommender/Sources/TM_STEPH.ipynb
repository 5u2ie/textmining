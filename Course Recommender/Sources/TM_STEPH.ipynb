{
 "metadata": {
  "name": "",
  "signature": "sha256:c163d5e3c974daa102d1fe507dba415214b375a7f90af1998a2ded27d34c740c"
 },
 "nbformat": 3,
 "nbformat_minor": 0,
 "worksheets": [
  {
   "cells": [
    {
     "cell_type": "code",
     "collapsed": false,
     "input": [
      "#grade conversion\n",
      "\n",
      "def GPA(s):\n",
      "    if s == \"A+\":\n",
      "        return float(4.0)\n",
      "    elif s == \"A\":\n",
      "        return float(4.0)\n",
      "    elif s == \"A-\":\n",
      "        return float(3.7)\n",
      "    elif s == \"B+\":\n",
      "        return float(3.3)\n",
      "    elif s == \"B\":\n",
      "        return float(3.0)\n",
      "    elif s == \"B-\":\n",
      "        return float(2.7)\n",
      "    elif s == \"C+\":\n",
      "        return float(2.3)\n",
      "    elif s == \"C\":\n",
      "        return float(2.0)\n",
      "    elif s == \"C-\":\n",
      "        return float(1.7)\n",
      "    elif s == \"D+\":\n",
      "        return float(1.3)\n",
      "    elif s == \"D\":\n",
      "        return float(1.0)\n",
      "    elif s == \"D-\":\n",
      "        return float(0.7)\n",
      "    elif s == \"F\":\n",
      "        return float(0)"
     ],
     "language": "python",
     "metadata": {},
     "outputs": [],
     "prompt_number": 15
    },
    {
     "cell_type": "code",
     "collapsed": false,
     "input": [
      "#introductory (&auxillary) informations for statistics\n",
      "#student-oriented\n",
      "\n",
      "#total number of students\n",
      "student_number_count = len(set(student_id_column)) #id_column replacable by any other variable & object?\n",
      "\n",
      "#per student, count & identify\n",
      "def count_courses_taken(student_id):\n",
      "def list_courses_taken(student_id):#are we going to return course id or course name or both?\n",
      "\n",
      "    #always id id<->course id conversion\n",
      "    \n",
      "#per student, return a set of grades for all course taken:\n",
      "def list_student_grades(student_id):\n",
      "    \n",
      "#per student, count & identify\n",
      "def count_courses_passed(student_id):\n",
      "def list_courses_passed(student_id):\n",
      "    \n",
      "def count_courses_failed(student_id):\n",
      "def list_courses_failed(student_id):\n",
      "    \n",
      "#per student, return fail rate: (number of courses a student failed / total number of courses student took)\n",
      "def per_student_fail_rate(student_id):\n",
      "    \n",
      "#per student, returan average grades:\n",
      "def per_student_avg_grade(student_id):"
     ],
     "language": "python",
     "metadata": {},
     "outputs": [
      {
       "ename": "IndentationError",
       "evalue": "expected an indented block (<ipython-input-4-7c57129bb0eb>, line 7)",
       "output_type": "pyerr",
       "traceback": [
        "\u001b[0;36m  File \u001b[0;32m\"<ipython-input-4-7c57129bb0eb>\"\u001b[0;36m, line \u001b[0;32m7\u001b[0m\n\u001b[0;31m    def courses_passed():\u001b[0m\n\u001b[0m      ^\u001b[0m\n\u001b[0;31mIndentationError\u001b[0m\u001b[0;31m:\u001b[0m expected an indented block\n"
       ]
      }
     ],
     "prompt_number": 4
    },
    {
     "cell_type": "code",
     "collapsed": false,
     "input": [
      "#introductory (&auxillary) informations for statistics\n",
      "#course-oriented\n",
      "\n",
      "#total amount of unique courses\n",
      "\n",
      "#total\n",
      "course_number_count = len(set(course_ids))\n",
      "\n",
      "#per major\n",
      "acc_cpi_course_count = len(set(course_ids))#(regex here to specify major (acc & cpi)\n",
      "hum_course_count = len(set(course_ids))#(regex here to specify major (hum)\n",
      "ssc_course_count = len(set(course_ids))#(regex here to specify major (ssc)\n",
      "sci_course_count = len(set(course_ids))#(regex here to specify major (sci)\n",
      "etc_course_count = len(set(course_ids))#(regex here to specify major (courses outside auc (Exchange & UvA & VU, etc.))\n",
      "\n",
      "#per course, return fail rate: (number of students who failed the course / total number of students who took the course)\n",
      "def per_course_fail_rate(course_id): #should we do this per year, per semester, per major, or just overall? -> overall"
     ],
     "language": "python",
     "metadata": {},
     "outputs": []
    },
    {
     "cell_type": "code",
     "collapsed": false,
     "input": [
      "#mean and median\n",
      "#student-oriented\n",
      "\n",
      "avg_course_count = #again, do we count by per year, per sem, per major or just overall? what about people who are yet to graduate?\n",
      "median_course_count =\n",
      "\n",
      "student_avg_fail_rate =\n",
      "student_avg_pass_rate = float(1 - student_avg_fail_rate)\n",
      "\n",
      "student_median_fail_rate =\n",
      "\n",
      "#overall (all studenst)\n",
      "overall_student_avg_grade = \n",
      "\n"
     ],
     "language": "python",
     "metadata": {},
     "outputs": []
    },
    {
     "cell_type": "code",
     "collapsed": false,
     "input": [
      "#mean and median\n",
      "#per course\n",
      "\n",
      "avg_enrolment = #avg number of courses held per year or per semester?\n",
      "\n",
      "course_avg_fail_rate = \n",
      "course_avg_pass_rate = float(1 - course_avg_fail_rate)\n",
      "\n",
      "course_median_fail_rate = \n",
      "\n",
      "course_avg_grade = "
     ],
     "language": "python",
     "metadata": {},
     "outputs": [],
     "prompt_number": 9
    }
   ],
   "metadata": {}
  }
 ]
}