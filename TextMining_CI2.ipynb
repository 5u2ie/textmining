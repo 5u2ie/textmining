{
 "metadata": {
  "name": "",
  "signature": "sha256:68356d80affb28a3398e7974c3c08c780a92fb376bf49a60649a50c281d94685"
 },
 "nbformat": 3,
 "nbformat_minor": 0,
 "worksheets": [
  {
   "cells": [
    {
     "cell_type": "markdown",
     "metadata": {},
     "source": [
      "1. Tanimoto score. \n",
      "Find out what a Tanimoto similarity score is. \n",
      "In what cases could this be used as the similarity metric instead of Euclidean distance or Pearson coefficient? \n",
      "Create a new similarity function using the Tanimoto score."
     ]
    },
    {
     "cell_type": "code",
     "collapsed": false,
     "input": [],
     "language": "python",
     "metadata": {},
     "outputs": []
    },
    {
     "cell_type": "heading",
     "level": 1,
     "metadata": {},
     "source": [
      "2. Tag similarity. \n",
      "Using the del.icio.us API, create a dataset of tags and items. \n",
      "Use this to calculate similarity between tags and see if you can find any that are almost identical. \n",
      "Find some items that could have been tagged \u201cprogramming\u201d but were not."
     ]
    },
    {
     "cell_type": "heading",
     "level": 1,
     "metadata": {},
     "source": [
      "3. User-based efficiency. \n",
      "The user-based filtering algorithm is inefficient \n",
      "because it compares a user to all other users every time a recommendation is needed. \n",
      "Write a function to precompute user similarities, \n",
      "and alter the recommendation code to use only the top five other users to get recommendations."
     ]
    },
    {
     "cell_type": "heading",
     "level": 1,
     "metadata": {},
     "source": [
      "4. Item-based bookmark filtering. \n",
      "Download a set of data from del.icio.us and add it to the database. \n",
      "Create an item-item table and use this to make item-based recommendations for various users. \n",
      "How do these compare to the user-based recommendations?"
     ]
    },
    {
     "cell_type": "heading",
     "level": 1,
     "metadata": {},
     "source": [
      "5. Audioscrobbler. \n",
      "Take a look at http://www.audioscrobbler.net, a dataset contain- ing music preferences for a large set of users. \n",
      "Use their web services API to get a set of data for making and building a music recommendation system."
     ]
    }
   ],
   "metadata": {}
  }
 ]
}