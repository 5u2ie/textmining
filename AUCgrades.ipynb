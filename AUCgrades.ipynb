{
 "metadata": {
  "name": "",
  "signature": "sha256:aa5ecbfd21a7b70398e9f036b67b8cf5422f220ba9b7660672ad8d5a8c3e2c23"
 },
 "nbformat": 3,
 "nbformat_minor": 0,
 "worksheets": [
  {
   "cells": [
    {
     "cell_type": "code",
     "collapsed": false,
     "input": [
      "# from mmap import mmap,ACCESS_READ\n",
      "# from xlrd import open_workbook\n",
      "# print open_workbook('gr.xls')\n",
      "# with open('gr.xls','rb') as f:\n",
      "#     print open_workbook(\n",
      "#         file_contents=mmap(f.fileno(),0,access=ACCESS_READ)\n",
      "#         )\n",
      "# aString = open('gr.xls','rb').read()\n",
      "# print open_workbook(file_contents=aString)\n",
      "\n",
      "# open('gr.xls')"
     ],
     "language": "python",
     "metadata": {},
     "outputs": [
      {
       "output_type": "stream",
       "stream": "stdout",
       "text": [
        "<xlrd.book.Book object at 0x1038c73d0>\n",
        "<xlrd.book.Book object at 0x1038b7a10>\n",
        "<xlrd.book.Book object at 0x1038b1ad0>\n"
       ]
      },
      {
       "metadata": {},
       "output_type": "pyout",
       "prompt_number": 9,
       "text": [
        "<open file 'gr.xls', mode 'r' at 0x103811660>"
       ]
      }
     ],
     "prompt_number": 9
    },
    {
     "cell_type": "code",
     "collapsed": false,
     "input": [
      "import xlrd\n",
      "workbook = xlrd.open_workbook('gr.xls')\n",
      "worksheet = workbook.sheet_by_name('Sheet1')\n",
      "\n",
      "num_rows = worksheet.nrows - 1\n",
      "num_cells = worksheet.ncols - 1\n",
      "\n",
      "curr_row = -1\n",
      "\n",
      "while curr_row < num_rows:\n",
      "    curr_row += 1\n",
      "    row = worksheet.row(curr_row)\n",
      "    print 'Row:', curr_row\n",
      "    curr_cell = -1\n",
      "    while curr_cell < num_cells:\n",
      "        curr_cell += 1\n",
      "        #cell types: 0=empty, 1=text, 2=number, 3=data, 4=boolean, 5=error, 6=blank\n",
      "        cell_type = worksheet.cell_type(curr_row, curr_cell)\n",
      "        cell_value = worksheet.cell_value(curr_row, curr_cell)\n",
      "        print ' ', cell_type, ':', cell_value"
     ],
     "language": "python",
     "metadata": {},
     "outputs": [
      {
       "output_type": "stream",
       "stream": "stdout",
       "text": [
        "Row: 0\n",
        "  1 : ID\n",
        "  1 : Periode\n",
        "  1 : Nr studieactiv.\n",
        "  1 : Deelactiviteit\n",
        "  1 : Semester\n",
        "  1 : Status\n",
        "  1 : Vakgebied\n",
        "  1 : CourseID\n",
        "  1 : Course\n",
        "  1 : Grades\n",
        "  1 : Subplan\n",
        "Row: 1\n",
        "  1 : anonymous\n",
        "  2 : 2110.0\n",
        "  2 : 10734.0\n",
        "  2 : 1.0\n",
        "  1 : S2\n",
        "  1 : E\n",
        "  1 : AUC\n",
        "  1 : 900122ACCH\n",
        "  1 :   Calculus I\n",
        "  1 : F\n",
        "  2 : 30711502.0\n",
        "Row: 2\n",
        "  1 : anonymous\n",
        "  2 : 2110.0\n",
        "  2 : 10746.0\n",
        "  2 : 3.0\n",
        "  1 : S2\n",
        "  1 : E\n",
        "  1 : AUC\n",
        "  1 : 900161ACCH\n",
        "  1 :   Logic\n",
        "  1 : A\n",
        "  2 : 30711502.0\n",
        "Row: 3\n",
        "  1 : anonymous\n",
        "  2 : 2110.0\n",
        "  2 : 11418.0\n",
        "  2 : 1.0\n",
        "  1 : S2\n",
        "  1 : E\n",
        "  1 : AUC\n",
        "  1 : 900111SCIH\n",
        "  1 :   Theme Intro LEU\n",
        "  1 : B+\n",
        "  2 : 30711502.0\n",
        "Row: 4\n",
        "  1 : anonymous\n",
        "  2 : 2110.0\n",
        "  2 : 14432.0\n",
        "  2 : 3.0\n",
        "  1 : S2\n",
        "  1 : E\n",
        "  1 : AUC\n",
        "  1 : 900141ACCH\n",
        "  1 :   Global Identity\n",
        "  1 : A-\n",
        "  2 : 30711502.0\n",
        "Row: 5\n",
        "  1 : anonymous\n",
        "  2 : 2110.0\n",
        "  2 : 18185.0\n",
        "  2 : 2.0\n",
        "  1 : S2\n",
        "  1 : E\n",
        "  1 : AUC\n",
        "  1 : 900111ACCH\n",
        "  1 :   Academic English I\n",
        "  1 : A+\n",
        "  2 : 30711502.0\n",
        "Row: 6\n",
        "  1 : anonymous2\n",
        "  2 : 2110.0\n",
        "  2 : 7523.0\n",
        "  2 : 2.0\n",
        "  1 : S1\n",
        "  1 : E\n",
        "  1 : AUC\n",
        "  1 : 900111ACCH\n",
        "  1 :   Academic English I\n",
        "  1 : B+\n",
        "  2 : 30711502.0\n",
        "Row: 7\n",
        "  1 : anonymous2\n",
        "  2 : 2110.0\n",
        "  2 : 7523.0\n",
        "  2 : 2.0\n",
        "  1 : S1\n",
        "  1 : E\n",
        "  1 : AUC\n",
        "  1 : 900111ACCH\n",
        "  1 :   Academic English I\n",
        "  1 : B+\n",
        "  2 : 30711503.0\n"
       ]
      }
     ],
     "prompt_number": 18
    },
    {
     "cell_type": "code",
     "collapsed": false,
     "input": [],
     "language": "python",
     "metadata": {},
     "outputs": [
      {
       "output_type": "stream",
       "stream": "stdout",
       "text": [
        "<xlrd.book.Book object at 0x1038faa50>\n"
       ]
      }
     ],
     "prompt_number": 11
    },
    {
     "cell_type": "code",
     "collapsed": false,
     "input": [],
     "language": "python",
     "metadata": {},
     "outputs": []
    }
   ],
   "metadata": {}
  }
 ]
}